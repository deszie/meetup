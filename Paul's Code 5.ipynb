{
 "cells": [
  {
   "cell_type": "code",
   "execution_count": 2,
   "metadata": {
    "collapsed": true
   },
   "outputs": [],
   "source": [
    "import pandas as pd\n",
    "import os\n",
    "import numpy as np\n",
    "import shutil\n",
    "\n",
    "#download the text files at https://archive.ics.uci.edu/ml/datasets/Sentiment+Labelled+Sentences\n",
    "#and place them in the \"data/\" folder\n",
    "\n",
    "amazon = pd.read_csv(\"data/amazon_cells_labelled.txt\", sep=\"\\t\", header=None).rename(columns={0: 'text', 1: \"label\"})\n",
    "imdb = pd.read_csv(\"data/imdb_labelled.txt\", sep=\"\\t\", header=None).rename(columns={0: 'text', 1: \"label\"})\n",
    "yelp = pd.read_csv(\"data/yelp_labelled.txt\", sep=\"\\t\", header=None).rename(columns={0: 'text', 1: \"label\"})\n",
    "\n"
   ]
  },
  {
   "cell_type": "code",
   "execution_count": 3,
   "metadata": {
    "collapsed": true
   },
   "outputs": [],
   "source": [
    "\n",
    "# write each sentence in text file for a specific folder\n",
    "def write_txt(string,path):\n",
    "    with open(\"%s.txt\" %(path), \"w\") as text_file:\n",
    "        text_file.write(string)\n",
    "    return\n",
    "\n"
   ]
  },
  {
   "cell_type": "code",
   "execution_count": 4,
   "metadata": {
    "collapsed": false
   },
   "outputs": [
    {
     "name": "stdout",
     "output_type": "stream",
     "text": [
      "Done writing for label 1\n",
      "Done writing for label 0\n",
      "Done spliting pos/\n",
      "Done spliting neg/\n"
     ]
    }
   ],
   "source": [
    "\n",
    "def build_corpus(df,label):\n",
    "    if label==1:\n",
    "        folder = \"pos/\"\n",
    "    else:\n",
    "        folder = \"neg/\"\n",
    "        \n",
    "    df = list(df[df[\"label\"]==label][\"text\"])\n",
    "    for i in range(0,len(df)):\n",
    "        write_txt(df[i],folder+str(i))\n",
    "    print(\"Done writing for label %s\" %(label))\n",
    "    return\n",
    "        \n",
    "\n",
    "def test_split(folder,proportion):\n",
    "    text_files = [f for f in os.listdir(folder) if f.endswith('.txt')]\n",
    "    size = int(proportion*len(text_files))\n",
    "    sample = np.random.choice(range(0,len(text_files)),size=size)\n",
    "    sample = list(set(sample))\n",
    "    move = [text_files[i] for i in sample]\n",
    "    #print(move)\n",
    "    for element in move:\n",
    "        #print(element)\n",
    "        #os.rename(folder+element, folder+\"dev/\"+element)\n",
    "        shutil.move(folder+element, folder+\"dev/\")\n",
    "    print(\"Done spliting %s\" %(folder))\n",
    "    return\n",
    "    \n",
    "    \n",
    "    \n",
    "    \n",
    "#to run once\n",
    "\n",
    "#if folder does not exist, create it\n",
    "folder_list= [\"pos/\",\"neg/\",\"pos/dev/\",\"neg/dev/\"]\n",
    "for directory in folder_list:\n",
    "    if not os.path.exists(directory):\n",
    "        os.makedirs(directory)\n",
    "    \n",
    "build_corpus(amazon,1)\n",
    "build_corpus(amazon,0)\n",
    "test_split(\"pos/\",0.1)\n",
    "test_split(\"neg/\",0.1)"
   ]
  },
  {
   "cell_type": "code",
   "execution_count": null,
   "metadata": {
    "collapsed": true
   },
   "outputs": [],
   "source": []
  }
 ],
 "metadata": {
  "kernelspec": {
   "display_name": "Python 3",
   "language": "python",
   "name": "python3"
  },
  "language_info": {
   "codemirror_mode": {
    "name": "ipython",
    "version": 3
   },
   "file_extension": ".py",
   "mimetype": "text/x-python",
   "name": "python",
   "nbconvert_exporter": "python",
   "pygments_lexer": "ipython3",
   "version": "3.6.0"
  }
 },
 "nbformat": 4,
 "nbformat_minor": 2
}
